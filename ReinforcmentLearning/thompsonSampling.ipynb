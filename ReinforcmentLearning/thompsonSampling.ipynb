{
 "cells": [
  {
   "cell_type": "code",
   "execution_count": 5,
   "id": "ad55b0f8",
   "metadata": {},
   "outputs": [],
   "source": [
    "import pandas as pd\n",
    "import numpy as np\n",
    "import matplotlib.pyplot as plt\n",
    "import math\n",
    "import random"
   ]
  },
  {
   "cell_type": "code",
   "execution_count": 6,
   "id": "cc651155",
   "metadata": {},
   "outputs": [],
   "source": [
    "dataSet = pd.read_csv(\"Ads_CTR_Optimisation.csv\")"
   ]
  },
  {
   "cell_type": "code",
   "execution_count": 7,
   "id": "2050788d",
   "metadata": {},
   "outputs": [],
   "source": [
    "N = 10_000\n",
    "number_of_ads = 10\n",
    "\n",
    "ads_selected = []\n",
    "numbers_of_rewards_1 = [0] * number_of_ads\n",
    "numbers_of_rewards_0 = [0] * number_of_ads\n",
    "\n",
    "total_reward = 0\n",
    "\n",
    "for n in range(N):\n",
    "    ad = 0\n",
    "    max_random = 0\n",
    "    for i in range(number_of_ads):\n",
    "        beta = random.betavariate(numbers_of_rewards_1[i]+1, numbers_of_rewards_0[i]+1)\n",
    "\n",
    "        if(beta > max_random):\n",
    "            ad = i\n",
    "            max_random = beta\n",
    "            \n",
    "    ads_selected.append(ad)\n",
    "    value = dataSet.values[n, ad]\n",
    "    \n",
    "    total_reward += value\n",
    "    \n",
    "    if(value == 1):\n",
    "        numbers_of_rewards_1[ad]+=1\n",
    "        \n",
    "    else:\n",
    "        numbers_of_rewards_0[ad]+=1\n",
    "    \n",
    "        \n",
    "        \n",
    "    \n",
    "    \n",
    "    \n",
    "     "
   ]
  },
  {
   "cell_type": "code",
   "execution_count": 8,
   "id": "584e63f1",
   "metadata": {},
   "outputs": [
    {
     "data": {
      "text/plain": [
       "(array([  81.,  117.,   46.,   38., 9336.,   24.,  136.,  101.,   94.,\n",
       "          27.]),\n",
       " array([0. , 0.9, 1.8, 2.7, 3.6, 4.5, 5.4, 6.3, 7.2, 8.1, 9. ]),\n",
       " <BarContainer object of 10 artists>)"
      ]
     },
     "execution_count": 8,
     "metadata": {},
     "output_type": "execute_result"
    },
    {
     "data": {
      "image/png": "[encoded data removed]",
      "text/plain": [
       "<Figure size 640x480 with 1 Axes>"
      ]
     },
     "metadata": {},
     "output_type": "display_data"
    }
   ],
   "source": [
    "plt.hist(ads_selected)"
   ]
  }
 ],
 "metadata": {
  "kernelspec": {
   "display_name": "Python 3",
   "language": "python",
   "name": "python3"
  },
  "language_info": {
   "codemirror_mode": {
    "name": "ipython",
    "version": 3
   },
   "file_extension": ".py",
   "mimetype": "text/x-python",
   "name": "python",
   "nbconvert_exporter": "python",
   "pygments_lexer": "ipython3",
   "version": "3.12.2"
  }
 },
 "nbformat": 4,
 "nbformat_minor": 5
}
