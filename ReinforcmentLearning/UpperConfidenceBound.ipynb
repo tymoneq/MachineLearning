{
 "cells": [
  {
   "cell_type": "code",
   "execution_count": 3,
   "metadata": {},
   "outputs": [],
   "source": [
    "import pandas as pd\n",
    "import numpy as np\n",
    "import matplotlib.pyplot as plt\n",
    "import math"
   ]
  },
  {
   "cell_type": "code",
   "execution_count": 4,
   "metadata": {},
   "outputs": [],
   "source": [
    "dataSet = pd.read_csv(\"Ads_CTR_Optimisation.csv\")"
   ]
  },
  {
   "cell_type": "code",
   "execution_count": 5,
   "metadata": {},
   "outputs": [],
   "source": [
    "N = 10000\n",
    "\n",
    "number_of_ads = 10\n",
    "\n",
    "list_of_ad_selected = []\n",
    "Number_of_times_ad_selected = [0] * number_of_ads\n",
    "Sum_of_rewards = [0] * number_of_ads\n",
    "\n",
    "total_reward = 0\n",
    "\n",
    "for n in range(N):\n",
    "    ad = 0\n",
    "    mx_ucb = 0\n",
    "    for i in range(number_of_ads):\n",
    "        if (Number_of_times_ad_selected[i] > 0):\n",
    "            avg_reward = Sum_of_rewards[i] / Number_of_times_ad_selected[i]\n",
    "            delta = math.sqrt(3/2* math.log(n+1) / Number_of_times_ad_selected[i])\n",
    "            ucb  = avg_reward + delta\n",
    "                \n",
    "            mx_ucb = max(mx_ucb, ucb)\n",
    "            if (mx_ucb == ucb):\n",
    "                ad = i\n",
    "                \n",
    "        else:\n",
    "            ad = i\n",
    "            mx_ucb = 1e400\n",
    "    \n",
    "    list_of_ad_selected.append(ad)\n",
    "    Number_of_times_ad_selected[ad] += 1\n",
    "    Sum_of_rewards[ad] += dataSet.values[n, ad]\n",
    "    total_reward += dataSet.values[n, ad]\n",
    "    \n",
    "\n"
   ]
  },
  {
   "cell_type": "code",
   "execution_count": 6,
   "metadata": {},
   "outputs": [
    {
     "data": {
      "text/plain": [
       "(array([ 880.,  326.,  254.,  368., 6121.,  145.,  307.,  935.,  457.,\n",
       "         207.]),\n",
       " array([0. , 0.9, 1.8, 2.7, 3.6, 4.5, 5.4, 6.3, 7.2, 8.1, 9. ]),\n",
       " <BarContainer object of 10 artists>)"
      ]
     },
     "execution_count": 6,
     "metadata": {},
     "output_type": "execute_result"
    },
    {
     "data": {
      "image/png": "[encoded data removed]",
      "text/plain": [
       "<Figure size 640x480 with 1 Axes>"
      ]
     },
     "metadata": {},
     "output_type": "display_data"
    }
   ],
   "source": [
    "plt.hist(list_of_ad_selected)"
   ]
  }
 ],
 "metadata": {
  "kernelspec": {
   "display_name": "Python 3",
   "language": "python",
   "name": "python3"
  },
  "language_info": {
   "codemirror_mode": {
    "name": "ipython",
    "version": 3
   },
   "file_extension": ".py",
   "mimetype": "text/x-python",
   "name": "python",
   "nbconvert_exporter": "python",
   "pygments_lexer": "ipython3",
   "version": "3.12.2"
  }
 },
 "nbformat": 4,
 "nbformat_minor": 2
}
